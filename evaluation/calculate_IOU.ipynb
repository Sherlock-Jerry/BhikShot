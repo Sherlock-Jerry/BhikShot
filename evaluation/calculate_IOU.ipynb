{
  "nbformat": 4,
  "nbformat_minor": 0,
  "metadata": {
    "colab": {
      "provenance": []
    },
    "kernelspec": {
      "name": "python3",
      "display_name": "Python 3"
    },
    "language_info": {
      "name": "python"
    }
  },
  "cells": [
    {
      "cell_type": "code",
      "execution_count": null,
      "metadata": {
        "id": "RnhsfIJAsXzu"
      },
      "outputs": [],
      "source": [
        "import numpy as np\n",
        "import time"
      ]
    },
    {
      "cell_type": "code",
      "source": [
        "class calculate_IOU():\n",
        "  def __init__(self,pred_points,target_points,dim): \n",
        "\n",
        "    # dim : (tuple) 3D object dimensions = height, width, length (in meters) \n",
        "    # pred and target points are there centre points pf the bounding box\n",
        "    \n",
        "    h,w,l = dim\n",
        "\n",
        "    self.pred_points = np.array(pred_points)\n",
        "    self.target_points = np.array(target_points)\n",
        "\n",
        "    #The reference point for the 3D bounding box for each object is centered on the bottom face of the box.\n",
        "    x_corners = np.array([l/2, l/2, -l/2, -l/2,  l/2,  l/2, -l/2, -l/2])\n",
        "    y_corners = np.array([0,   0,    0,    0,   -h,   -h,   -h,   -h ])\n",
        "    z_corners = np.array([w/2, -w/2, -w/2, w/2, w/2, -w/2, -w/2, w/2 ])\n",
        "    \n",
        "    # Coordinates of each corner of predicted\n",
        "    x_pred = self.pred_points[0] - x_corners\n",
        "    y_pred = self.pred_points[1] - y_corners\n",
        "    z_pred = self.pred_points[2] - z_corners\n",
        "\n",
        "    # Coordinates of each corner of target\n",
        "    x_target = self.target_points[0] - x_corners\n",
        "    y_target = self.target_points[1] - y_corners\n",
        "    z_target = self.target_points[2] - z_corners\n",
        "\n",
        "    # Dimensions of overlapping box\n",
        "    x_overlap = np.maximum(0, np.minimum(x_pred[2], x_target[2]) - np.maximum(x_pred[0], x_target[0]))\n",
        "    y_overlap = np.maximum(0, np.minimum(y_pred[4], y_target[4]) - np.maximum(y_pred[0], y_target[0]))\n",
        "    z_overlap = np.maximum(0, np.minimum(z_pred[3], z_target[3]) - np.maximum(z_pred[0], z_target[0]))\n",
        "\n",
        "    # Calculate the intersection volume\n",
        "    intersection_volume = x_overlap * y_overlap * z_overlap\n",
        "\n",
        "    # Calculate the union volume\n",
        "    pred_volume = l * w * h\n",
        "    target_volume = pred_volume\n",
        "\n",
        "    union_volume = pred_volume + target_volume - intersection_volume\n",
        "\n",
        "    # Calculate the IoU\n",
        "    self.iou = intersection_volume / union_volume\n",
        "\n",
        "    print('INTERSECTION VOLUME = ', intersection_volume)\n",
        "    print('UNION VOLUME = ', union_volume)\n",
        "    print('IOU =', self.iou)\n",
        "    \n",
        "    return self.iou\n"
      ],
      "metadata": {
        "id": "mRpWlkz5sg8o"
      },
      "execution_count": null,
      "outputs": []
    }
  ]
}