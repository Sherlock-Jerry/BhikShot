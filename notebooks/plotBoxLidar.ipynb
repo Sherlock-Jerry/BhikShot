{
  "cells": [
    {
      "attachments": {},
      "cell_type": "markdown",
      "metadata": {},
      "source": [
        "## READ ME\n",
        "### To run this notebook, you will need to specify the path to 1. A time series of ground-truth and predicted bounding box frames, concatenated as [first-5-ground, 2nd-5-ground, predicted-5], 2. The path to the binary lidar data files for this set of frames"
      ]
    },
    {
      "cell_type": "code",
      "execution_count": 1,
      "metadata": {
        "id": "RnhsfIJAsXzu"
      },
      "outputs": [],
      "source": [
        "import numpy as np\n",
        "import open3d as o3d\n",
        "import time\n",
        "import os"
      ]
    },
    {
      "cell_type": "code",
      "execution_count": null,
      "metadata": {},
      "outputs": [],
      "source": [
        "BOX_FRAMES_PATH = None #TODO\n",
        "LIDAR_FRAMES_PATH = None #TODO"
      ]
    },
    {
      "attachments": {},
      "cell_type": "markdown",
      "metadata": {},
      "source": [
        "## Center the predicted and true bounding boxes in the lidar space"
      ]
    },
    {
      "cell_type": "code",
      "execution_count": 2,
      "metadata": {},
      "outputs": [],
      "source": [
        "def box_center_to_corner(box, pred=False):\n",
        "    \"\"\"\n",
        "    Centers a bounding box in lidar data; pass pred=True if it is a predicted bounding box\n",
        "    \"\"\"\n",
        "    h,w,l,x,y,z,rotation = box\n",
        "    h,w,l,x,y,z,rotation = box\n",
        "    bounding_box = np.array([\n",
        "        [l/2, l/2, -l/2, -l/2, l/2, l/2, -l/2, -l/2],\n",
        "        [0,0,0,0,-h,-h,-h,-h],\n",
        "        [w/2, -w/2, -w/2, w/2, w/2, -w/2, -w/2, w/2]])\n",
        "\n",
        "    # Standard 3x3 rotation matrix around the Z axis\n",
        "    rotation_matrix = np.array([\n",
        "        [np.sin(rotation), np.cos(rotation), 0.0],\n",
        "        [np.cos(rotation), -np.sin(rotation), 0.0],\n",
        "        [0.0, 0.0, 1.0]])\n",
        "    #corner_box = np.dot(rotation_matrix, bounding_box).T\n",
        "    corner_box = bounding_box.T\n",
        "    if not pred:\n",
        "        corner_box[:,0] -= (x - 15)\n",
        "        corner_box[:,1] -= (y - 4.5)\n",
        "        corner_box[:,2] -= 0.5\n",
        "    else:\n",
        "        corner_box[:,0] -= (x - 10)\n",
        "        corner_box[:,1] -= (y - 4.5)\n",
        "        corner_box[:,2] -= 0.5\n",
        "    return corner_box"
      ]
    },
    {
      "cell_type": "code",
      "execution_count": 3,
      "metadata": {},
      "outputs": [],
      "source": [
        "\n",
        "def print_camera_pose(vis):\n",
        "    \"\"\"Writes the camera orientation of the Open3D visualization window\n",
        "    Use shift + A to record position in open3D render window\n",
        "    \"\"\"\n",
        "    #ctr = vis.get_view_control()\n",
        "    cam_params = ctr.convert_to_pinhole_camera_parameters()\n",
        "    with open('cam.txt', 'w') as f:\n",
        "        f.write(f\"Look: {cam_params.extrinsic[:3,2]}, Up: {cam_params.extrinsic[:3,3]}, Front: {cam_params.extrinsic[:3,1]},something: {cam_params.extrinsic[:3,0]}\")\n",
        "        #f.write(f\"lookat={ctr.get_lookat_point()} front={ctr.get_front_vector()} up={ctr.get_up_vector()} zoom={ctr.get_zoom()}\")\n",
        "        f.write('\\n')\n",
        "        #print(f\"Look: {cam_params.extrinsic[:3,2]}, Up: {cam_params.extrinsic[:3,3]}, Front: {cam_params.extrinsic[:3,1]}\")"
      ]
    },
    {
      "cell_type": "code",
      "execution_count": 4,
      "metadata": {},
      "outputs": [],
      "source": [
        "def vis_box_cloud(box, bin_file, true_box=None):\n",
        "    \"\"\"\n",
        "    Visualizes the bounding box(es) in the lidar data. \n",
        "    Takes a binary lidar data file and a 1 or 2 bounding boxes\n",
        "    \"\"\"\n",
        "    #box = box_center_to_corner(box)\n",
        "    bin_pcd = np.fromfile(bin_file, dtype=np.float32)\n",
        "    points = bin_pcd.reshape((-1, 4))[:, 0:3]\n",
        "    # Convert to Open3D point cloud\n",
        "    o3d_pcd = o3d.geometry.PointCloud(o3d.utility.Vector3dVector(points))\n",
        "    # Save to whatever format you like\n",
        "    pcd_file = f\"pcd/{bin_file[5:-4]}.pcd\"\n",
        "    o3d.io.write_point_cloud(pcd_file, o3d_pcd)\n",
        "    pcd = o3d.io.read_point_cloud(pcd_file)\n",
        "    lines = [[0, 1], [1, 2], [2, 3], [0, 3],\n",
        "          [4, 5], [5, 6], [6, 7], [4, 7],\n",
        "          [0, 4], [1, 5], [2, 6], [3, 7]]\n",
        "\n",
        "    # Use the same color for all lines\n",
        "    if type(true_box) != type(None):\n",
        "        colors = [[1, 0, 0] for _ in range(len(lines))]\n",
        "        true_colors = [[0, 0, 0] for _ in range(len(lines))]\n",
        "        box = box_center_to_corner(box, pred=True)\n",
        "    else:\n",
        "        colors = [[0, 0, 0] for _ in range(len(lines))]\n",
        "        box = box_center_to_corner(box)\n",
        "\n",
        "    line_set = o3d.geometry.LineSet()\n",
        "    line_set.points = o3d.utility.Vector3dVector(box)\n",
        "    line_set.lines = o3d.utility.Vector2iVector(lines)\n",
        "    line_set.colors = o3d.utility.Vector3dVector(colors)\n",
        "\n",
        "    if type(true_box) != type(None):\n",
        "        true_box = box_center_to_corner(true_box)\n",
        "        true_lines = o3d.geometry.LineSet()\n",
        "        true_lines.points = o3d.utility.Vector3dVector(true_box)\n",
        "        true_lines.lines = o3d.utility.Vector2iVector(lines)\n",
        "        true_lines.colors = o3d.utility.Vector3dVector(true_colors)\n",
        "    #vis = o3d.visualization.Visualizer()\n",
        "    #vis.add_geometries([line_set,pcd])\n",
        "    if type(true_box) != type(None):\n",
        "        o3d.visualization.draw_geometries([line_set,pcd,true_lines],\n",
        "                                        zoom=0.1,\n",
        "                                        lookat=[-0.04318952, -0.89840303, -0.43704309],\n",
        "                                        up=[-0.59718197, -0.67550043, 27.44612798], \n",
        "                                        front=[-0.98925943, -0.02268793,  0.14439891]\n",
        "                                        )\n",
        "    else:\n",
        "        o3d.visualization.draw_geometries([line_set,pcd],\n",
        "                                        zoom=0.1,\n",
        "                                        lookat=[ 0.03398664,-0.85294982,-0.52088531],\n",
        "                                        up=[-0.53002478,-0.72589837,31.23243209], \n",
        "                                        front=[ 0.19140022, -0.43721607,  0.8787537 ]\n",
        "                                        )\n",
        "        # Comment the above block and uncomment below to sue shit+A to record position of render \n",
        "        # o3d.visualization.draw_geometries_with_key_callbacks([line_set,pcd],{ord('A'):print_camera_pose})\n",
        "\n",
        "\n",
        "\n",
        "\n",
        "    "
      ]
    },
    {
      "cell_type": "code",
      "execution_count": 5,
      "metadata": {},
      "outputs": [],
      "source": [
        "first_5_data, ground_data, pred_data = np.load(BOX_FRAMES_PATH)"
      ]
    },
    {
      "attachments": {},
      "cell_type": "markdown",
      "metadata": {},
      "source": [
        "## Visualize an example"
      ]
    },
    {
      "cell_type": "code",
      "execution_count": 6,
      "metadata": {},
      "outputs": [],
      "source": [
        "i = 0\n",
        "files = sorted(os.listdir(LIDAR_FRAMES_PATH))\n",
        "binfile = LIDAR_FRAMES_PATH+files[0]\n",
        "print(binfile)\n",
        "true_box = None\n",
        "if i < 5:\n",
        "    box = first_5_data[i]\n",
        "else:\n",
        "    box = pred_data[i-5]\n",
        "    true_box = ground_data[i-5]\n",
        "vis_box_cloud(box,binfile,true_box)\n"
      ]
    }
  ],
  "metadata": {
    "colab": {
      "provenance": []
    },
    "kernelspec": {
      "display_name": "Python 3",
      "name": "python3"
    },
    "language_info": {
      "codemirror_mode": {
        "name": "ipython",
        "version": 3
      },
      "file_extension": ".py",
      "mimetype": "text/x-python",
      "name": "python",
      "nbconvert_exporter": "python",
      "pygments_lexer": "ipython3",
      "version": "3.9.16"
    }
  },
  "nbformat": 4,
  "nbformat_minor": 0
}
